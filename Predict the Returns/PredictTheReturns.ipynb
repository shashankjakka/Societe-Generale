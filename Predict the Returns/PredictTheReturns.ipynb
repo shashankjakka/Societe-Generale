{
 "cells": [
  {
   "cell_type": "code",
   "execution_count": 1,
   "metadata": {},
   "outputs": [
    {
     "name": "stderr",
     "output_type": "stream",
     "text": [
      "/anaconda2/lib/python2.7/site-packages/sklearn/cross_validation.py:41: DeprecationWarning: This module was deprecated in version 0.18 in favor of the model_selection module into which all the refactored classes and functions are moved. Also note that the interface of the new CV iterators are different from that of this module. This module will be removed in 0.20.\n",
      "  \"This module will be removed in 0.20.\", DeprecationWarning)\n"
     ]
    }
   ],
   "source": [
    "import numpy as np\n",
    "import pandas as pd\n",
    "from sklearn.preprocessing import LabelEncoder,StandardScaler\n",
    "from sklearn.model_selection import train_test_split,cross_val_score,KFold\n",
    "from sklearn.ensemble import RandomForestRegressor\n",
    "from sklearn.metrics import r2_score\n",
    "import matplotlib.pyplot as plt\n",
    "%matplotlib inline\n",
    "import seaborn as sns\n",
    "import xgboost as xgb\n",
    "from datetime import datetime\n",
    "from sklearn.linear_model import LinearRegression\n",
    "from mlxtend.feature_selection import ExhaustiveFeatureSelector as EFS\n",
    "from fancyimpute import BiScaler, KNN, NuclearNormMinimization, SoftImpute\n",
    "from catboost import CatBoostRegressor\n"
   ]
  },
  {
   "cell_type": "code",
   "execution_count": 2,
   "metadata": {
    "collapsed": true
   },
   "outputs": [],
   "source": [
    "pd.set_option('max_columns',50)"
   ]
  },
  {
   "cell_type": "code",
   "execution_count": 277,
   "metadata": {
    "collapsed": true
   },
   "outputs": [],
   "source": [
    "train=pd.read_csv('/Users/shashank/Downloads/Societe/train.csv')\n",
    "test=pd.read_csv('/Users/shashank/Downloads/Societe/test.csv')\n",
    "sample=pd.read_csv('/Users/shashank/Downloads/Societe/sample_submission.csv')"
   ]
  },
  {
   "cell_type": "code",
   "execution_count": 278,
   "metadata": {
    "collapsed": true
   },
   "outputs": [],
   "source": [
    "# train=train[train['return']<0.5]"
   ]
  },
  {
   "cell_type": "code",
   "execution_count": 279,
   "metadata": {
    "collapsed": true
   },
   "outputs": [],
   "source": [
    "ids=test['portfolio_id']\n",
    "Y=train['return']"
   ]
  },
  {
   "cell_type": "code",
   "execution_count": 280,
   "metadata": {
    "collapsed": true
   },
   "outputs": [],
   "source": [
    "## Convert to dollars\n",
    "\n",
    "train.loc[train['currency']=='GBP','sold']=train.loc[train['currency']=='GBP','sold']*1.35\n",
    "train.loc[train['currency']=='CHF','sold']=train.loc[train['currency']=='CHF','sold']*1.02\n",
    "train.loc[train['currency']=='EUR','sold']=train.loc[train['currency']=='EUR','sold']*1.19\n",
    "train.loc[train['currency']=='JPY','sold']=train.loc[train['currency']=='JPY','sold']*0.0089\n",
    "\n",
    "test.loc[train['currency']=='GBP','sold']=test.loc[train['currency']=='GBP','sold']*1.35\n",
    "test.loc[train['currency']=='CHF','sold']=test.loc[train['currency']=='CHF','sold']*1.02\n",
    "test.loc[train['currency']=='EUR','sold']=test.loc[train['currency']=='EUR','sold']*1.19\n",
    "test.loc[train['currency']=='JPY','sold']=test.loc[train['currency']=='JPY','sold']*0.0089"
   ]
  },
  {
   "cell_type": "code",
   "execution_count": 281,
   "metadata": {
    "collapsed": true
   },
   "outputs": [],
   "source": [
    "train.loc[train['currency']=='GBP','bought']=train.loc[train['currency']=='GBP','bought']*1.35\n",
    "train.loc[train['currency']=='CHF','bought']=train.loc[train['currency']=='CHF','bought']*1.02\n",
    "train.loc[train['currency']=='EUR','bought']=train.loc[train['currency']=='EUR','bought']*1.19\n",
    "train.loc[train['currency']=='JPY','bought']=train.loc[train['currency']=='JPY','bought']*0.0089\n",
    "\n",
    "test.loc[train['currency']=='GBP','bought']=test.loc[train['currency']=='GBP','bought']*1.35\n",
    "test.loc[train['currency']=='CHF','bought']=test.loc[train['currency']=='CHF','bought']*1.02\n",
    "test.loc[train['currency']=='EUR','bought']=test.loc[train['currency']=='EUR','bought']*1.19\n",
    "test.loc[train['currency']=='JPY','bought']=test.loc[train['currency']=='JPY','bought']*0.0089"
   ]
  },
  {
   "cell_type": "code",
   "execution_count": 282,
   "metadata": {},
   "outputs": [
    {
     "data": {
      "text/plain": [
       "0.9980662280320226"
      ]
     },
     "execution_count": 282,
     "metadata": {},
     "output_type": "execute_result"
    }
   ],
   "source": [
    "train['libor_rate'].mean()"
   ]
  },
  {
   "cell_type": "code",
   "execution_count": 283,
   "metadata": {},
   "outputs": [
    {
     "data": {
      "text/plain": [
       "0.5319833333333329"
      ]
     },
     "execution_count": 283,
     "metadata": {},
     "output_type": "execute_result"
    }
   ],
   "source": [
    "train['libor_rate'].median()"
   ]
  },
  {
   "cell_type": "code",
   "execution_count": 284,
   "metadata": {
    "collapsed": true
   },
   "outputs": [],
   "source": [
    "## Fill\n",
    "train['libor_rate']=train['libor_rate'].fillna(train['libor_rate'].median())\n",
    "train['status']=train['status'].fillna(False)\n",
    "test['libor_rate']=test['libor_rate'].fillna(train['libor_rate'].median())\n",
    "test['status']=test['status'].fillna(False)"
   ]
  },
  {
   "cell_type": "code",
   "execution_count": 285,
   "metadata": {
    "collapsed": true
   },
   "outputs": [],
   "source": [
    "train['sold']=train['sold'].fillna(train['sold'].median())\n",
    "train['bought']=train['bought'].fillna(train['bought'].median())\n",
    "test['sold']=test['sold'].fillna(train['sold'].median())\n",
    "test['bought']=test['bought'].fillna(train['bought'].median())"
   ]
  },
  {
   "cell_type": "code",
   "execution_count": 286,
   "metadata": {
    "collapsed": true,
    "scrolled": true
   },
   "outputs": [],
   "source": [
    "## Extract the time features\n",
    "train['start']=train['start_date'].apply(lambda x: datetime.strptime(str(x),'%Y%m%d').date())\n",
    "train['create']=train['creation_date'].apply(lambda x: datetime.strptime(str(x),'%Y%m%d').date())\n",
    "train['end']=train['sell_date'].apply(lambda x: datetime.strptime(str(x),'%Y%m%d').date())\n",
    "\n",
    "test['start']=test['start_date'].apply(lambda x: datetime.strptime(str(x),'%Y%m%d').date())\n",
    "test['create']=test['creation_date'].apply(lambda x: datetime.strptime(str(x),'%Y%m%d').date())\n",
    "test['end']=test['sell_date'].apply(lambda x: datetime.strptime(str(x),'%Y%m%d').date())\n",
    "\n"
   ]
  },
  {
   "cell_type": "code",
   "execution_count": 287,
   "metadata": {},
   "outputs": [
    {
     "data": {
      "text/html": [
       "<div>\n",
       "<style>\n",
       "    .dataframe thead tr:only-child th {\n",
       "        text-align: right;\n",
       "    }\n",
       "\n",
       "    .dataframe thead th {\n",
       "        text-align: left;\n",
       "    }\n",
       "\n",
       "    .dataframe tbody tr th {\n",
       "        vertical-align: top;\n",
       "    }\n",
       "</style>\n",
       "<table border=\"1\" class=\"dataframe\">\n",
       "  <thead>\n",
       "    <tr style=\"text-align: right;\">\n",
       "      <th></th>\n",
       "      <th>portfolio_id</th>\n",
       "      <th>desk_id</th>\n",
       "      <th>office_id</th>\n",
       "      <th>pf_category</th>\n",
       "      <th>start_date</th>\n",
       "      <th>sold</th>\n",
       "      <th>country_code</th>\n",
       "      <th>euribor_rate</th>\n",
       "      <th>currency</th>\n",
       "      <th>libor_rate</th>\n",
       "      <th>bought</th>\n",
       "      <th>creation_date</th>\n",
       "      <th>indicator_code</th>\n",
       "      <th>sell_date</th>\n",
       "      <th>type</th>\n",
       "      <th>hedge_value</th>\n",
       "      <th>status</th>\n",
       "      <th>return</th>\n",
       "      <th>start</th>\n",
       "      <th>create</th>\n",
       "      <th>end</th>\n",
       "    </tr>\n",
       "  </thead>\n",
       "  <tbody>\n",
       "    <tr>\n",
       "      <th>0</th>\n",
       "      <td>PF00001002</td>\n",
       "      <td>DSK00001001</td>\n",
       "      <td>OFF00001002</td>\n",
       "      <td>B</td>\n",
       "      <td>20040720</td>\n",
       "      <td>110000000.0</td>\n",
       "      <td>T</td>\n",
       "      <td>0.02074</td>\n",
       "      <td>USD</td>\n",
       "      <td>2.332216</td>\n",
       "      <td>1.098097e+08</td>\n",
       "      <td>20040720</td>\n",
       "      <td>NaN</td>\n",
       "      <td>20040812</td>\n",
       "      <td>B</td>\n",
       "      <td>NaN</td>\n",
       "      <td>False</td>\n",
       "      <td>0.02496</td>\n",
       "      <td>2004-07-20</td>\n",
       "      <td>2004-07-20</td>\n",
       "      <td>2004-08-12</td>\n",
       "    </tr>\n",
       "    <tr>\n",
       "      <th>1</th>\n",
       "      <td>PF00001003</td>\n",
       "      <td>DSK00001002</td>\n",
       "      <td>OFF00001001</td>\n",
       "      <td>A</td>\n",
       "      <td>20040709</td>\n",
       "      <td>238505850.0</td>\n",
       "      <td>N</td>\n",
       "      <td>0.02074</td>\n",
       "      <td>GBP</td>\n",
       "      <td>5.269617</td>\n",
       "      <td>2.376114e+08</td>\n",
       "      <td>20040723</td>\n",
       "      <td>NaN</td>\n",
       "      <td>20040812</td>\n",
       "      <td>C</td>\n",
       "      <td>NaN</td>\n",
       "      <td>False</td>\n",
       "      <td>0.05496</td>\n",
       "      <td>2004-07-09</td>\n",
       "      <td>2004-07-23</td>\n",
       "      <td>2004-08-12</td>\n",
       "    </tr>\n",
       "    <tr>\n",
       "      <th>2</th>\n",
       "      <td>PF00001005</td>\n",
       "      <td>DSK00001004</td>\n",
       "      <td>OFF00001001</td>\n",
       "      <td>A</td>\n",
       "      <td>20040723</td>\n",
       "      <td>56474000.0</td>\n",
       "      <td>T</td>\n",
       "      <td>0.02074</td>\n",
       "      <td>USD</td>\n",
       "      <td>2.332216</td>\n",
       "      <td>5.637953e+07</td>\n",
       "      <td>20040723</td>\n",
       "      <td>NaN</td>\n",
       "      <td>20040817</td>\n",
       "      <td>A</td>\n",
       "      <td>NaN</td>\n",
       "      <td>False</td>\n",
       "      <td>0.02496</td>\n",
       "      <td>2004-07-23</td>\n",
       "      <td>2004-07-23</td>\n",
       "      <td>2004-08-17</td>\n",
       "    </tr>\n",
       "    <tr>\n",
       "      <th>3</th>\n",
       "      <td>PF00001006</td>\n",
       "      <td>DSK00001005</td>\n",
       "      <td>OFF00001001</td>\n",
       "      <td>A</td>\n",
       "      <td>20040609</td>\n",
       "      <td>164813000.0</td>\n",
       "      <td>T</td>\n",
       "      <td>0.02074</td>\n",
       "      <td>USD</td>\n",
       "      <td>2.332216</td>\n",
       "      <td>1.645088e+08</td>\n",
       "      <td>20040723</td>\n",
       "      <td>NaN</td>\n",
       "      <td>20040713</td>\n",
       "      <td>A</td>\n",
       "      <td>NaN</td>\n",
       "      <td>False</td>\n",
       "      <td>0.02496</td>\n",
       "      <td>2004-06-09</td>\n",
       "      <td>2004-07-23</td>\n",
       "      <td>2004-07-13</td>\n",
       "    </tr>\n",
       "    <tr>\n",
       "      <th>4</th>\n",
       "      <td>PF00001007</td>\n",
       "      <td>DSK00001005</td>\n",
       "      <td>OFF00001002</td>\n",
       "      <td>B</td>\n",
       "      <td>20040609</td>\n",
       "      <td>140800000.0</td>\n",
       "      <td>T</td>\n",
       "      <td>0.02074</td>\n",
       "      <td>USD</td>\n",
       "      <td>2.332216</td>\n",
       "      <td>1.405402e+08</td>\n",
       "      <td>20040723</td>\n",
       "      <td>NaN</td>\n",
       "      <td>20040713</td>\n",
       "      <td>B</td>\n",
       "      <td>NaN</td>\n",
       "      <td>False</td>\n",
       "      <td>0.02496</td>\n",
       "      <td>2004-06-09</td>\n",
       "      <td>2004-07-23</td>\n",
       "      <td>2004-07-13</td>\n",
       "    </tr>\n",
       "  </tbody>\n",
       "</table>\n",
       "</div>"
      ],
      "text/plain": [
       "  portfolio_id      desk_id    office_id pf_category  start_date         sold  \\\n",
       "0   PF00001002  DSK00001001  OFF00001002           B    20040720  110000000.0   \n",
       "1   PF00001003  DSK00001002  OFF00001001           A    20040709  238505850.0   \n",
       "2   PF00001005  DSK00001004  OFF00001001           A    20040723   56474000.0   \n",
       "3   PF00001006  DSK00001005  OFF00001001           A    20040609  164813000.0   \n",
       "4   PF00001007  DSK00001005  OFF00001002           B    20040609  140800000.0   \n",
       "\n",
       "  country_code  euribor_rate currency  libor_rate        bought  \\\n",
       "0            T       0.02074      USD    2.332216  1.098097e+08   \n",
       "1            N       0.02074      GBP    5.269617  2.376114e+08   \n",
       "2            T       0.02074      USD    2.332216  5.637953e+07   \n",
       "3            T       0.02074      USD    2.332216  1.645088e+08   \n",
       "4            T       0.02074      USD    2.332216  1.405402e+08   \n",
       "\n",
       "   creation_date indicator_code  sell_date type hedge_value  status   return  \\\n",
       "0       20040720            NaN   20040812    B         NaN   False  0.02496   \n",
       "1       20040723            NaN   20040812    C         NaN   False  0.05496   \n",
       "2       20040723            NaN   20040817    A         NaN   False  0.02496   \n",
       "3       20040723            NaN   20040713    A         NaN   False  0.02496   \n",
       "4       20040723            NaN   20040713    B         NaN   False  0.02496   \n",
       "\n",
       "        start      create         end  \n",
       "0  2004-07-20  2004-07-20  2004-08-12  \n",
       "1  2004-07-09  2004-07-23  2004-08-12  \n",
       "2  2004-07-23  2004-07-23  2004-08-17  \n",
       "3  2004-06-09  2004-07-23  2004-07-13  \n",
       "4  2004-06-09  2004-07-23  2004-07-13  "
      ]
     },
     "execution_count": 287,
     "metadata": {},
     "output_type": "execute_result"
    }
   ],
   "source": [
    "train.head()"
   ]
  },
  {
   "cell_type": "code",
   "execution_count": 290,
   "metadata": {
    "collapsed": true
   },
   "outputs": [],
   "source": [
    "## between end and create\n",
    "def f(row):\n",
    "    return (row[-1]-row[-2]).days\n",
    "    \n",
    "train['duration']=train.apply(f,axis=1)\n",
    "test['duration']=test.apply(f,axis=1)"
   ]
  },
  {
   "cell_type": "code",
   "execution_count": 291,
   "metadata": {
    "collapsed": true
   },
   "outputs": [],
   "source": [
    "train['duration']=train['duration'].apply(lambda x:0 if x<0 else x)\n",
    "test['duration']=test['duration'].apply(lambda x:0 if x<0 else x)"
   ]
  },
  {
   "cell_type": "code",
   "execution_count": 292,
   "metadata": {
    "collapsed": true
   },
   "outputs": [],
   "source": [
    "# def f2(row):\n",
    "#     return (row['end']-row['start']).days\n",
    "    \n",
    "# train['duration2']=train.apply(f2,axis=1)\n",
    "# test['duration2']=test.apply(f2,axis=1)"
   ]
  },
  {
   "cell_type": "code",
   "execution_count": 293,
   "metadata": {
    "collapsed": true
   },
   "outputs": [],
   "source": [
    "train['hedge_value'].fillna(False, inplace=True)\n",
    "test['hedge_value'].fillna(False, inplace=True)"
   ]
  },
  {
   "cell_type": "code",
   "execution_count": 294,
   "metadata": {
    "collapsed": true
   },
   "outputs": [],
   "source": [
    "train['indicator_code'].fillna(False, inplace=True)\n",
    "test['indicator_code'].fillna(False, inplace=True)"
   ]
  },
  {
   "cell_type": "code",
   "execution_count": 295,
   "metadata": {
    "collapsed": true
   },
   "outputs": [],
   "source": [
    "train['m1']=train['start'].apply(lambda x:x.month)\n",
    "train['m2']=train['create'].apply(lambda x:x.month)\n",
    "train['m3']=train['end'].apply(lambda x:x.month)\n",
    "\n",
    "test['m1']=test['start'].apply(lambda x:x.month)\n",
    "test['m2']=test['create'].apply(lambda x:x.month)\n",
    "test['m3']=test['end'].apply(lambda x:x.month)"
   ]
  },
  {
   "cell_type": "code",
   "execution_count": 296,
   "metadata": {
    "collapsed": true
   },
   "outputs": [],
   "source": [
    "train['d1']=train['start'].apply(lambda x:x.day)\n",
    "train['d2']=train['create'].apply(lambda x:x.day)\n",
    "train['d3']=train['end'].apply(lambda x:x.day)\n",
    "\n",
    "test['d1']=test['start'].apply(lambda x:x.day)\n",
    "test['d2']=test['create'].apply(lambda x:x.day)\n",
    "test['d3']=test['end'].apply(lambda x:x.day)"
   ]
  },
  {
   "cell_type": "code",
   "execution_count": 297,
   "metadata": {
    "collapsed": true
   },
   "outputs": [],
   "source": [
    "train['y1']=train['start'].apply(lambda x:x.year)\n",
    "train['y2']=train['create'].apply(lambda x:x.year)\n",
    "train['y3']=train['end'].apply(lambda x:x.year)\n",
    "\n",
    "test['y1']=test['start'].apply(lambda x:x.year)\n",
    "test['y2']=test['create'].apply(lambda x:x.year)\n",
    "test['y3']=test['end'].apply(lambda x:x.year)"
   ]
  },
  {
   "cell_type": "code",
   "execution_count": 298,
   "metadata": {
    "collapsed": true
   },
   "outputs": [],
   "source": [
    "train['w1']=train['start'].apply(lambda x:x.weekday())\n",
    "train['w2']=train['create'].apply(lambda x:x.weekday())\n",
    "train['w3']=train['end'].apply(lambda x:x.weekday())\n",
    "\n",
    "test['w1']=test['start'].apply(lambda x:x.weekday())\n",
    "test['w2']=test['create'].apply(lambda x:x.weekday())\n",
    "test['w3']=test['end'].apply(lambda x:x.weekday())"
   ]
  },
  {
   "cell_type": "code",
   "execution_count": 1,
   "metadata": {
    "collapsed": true
   },
   "outputs": [],
   "source": [
    "# sc=StandardScaler()\n",
    "# train['bought']=sc.fit_transform(train['bought'].reshape(-1, 1))\n",
    "# sc=StandardScaler()\n",
    "# train['sold']=sc.fit_transform(train['sold'].reshape(-1, 1))\n",
    "\n",
    "# sc=StandardScaler()\n",
    "# test['bought']=sc.fit_transform(test['bought'].reshape(-1, 1))\n",
    "# sc=StandardScaler()\n",
    "# test['sold']=sc.fit_transform(test['sold'].reshape(-1, 1))"
   ]
  },
  {
   "cell_type": "code",
   "execution_count": 489,
   "metadata": {
    "collapsed": true
   },
   "outputs": [],
   "source": [
    "trainX=train[['office_id','pf_category','country_code','euribor_rate','libor_rate',\n",
    "             'type','duration','m2','m3','d1','d2','d3','y2','y3']]\n",
    "testX=test[['office_id','pf_category','country_code','euribor_rate','libor_rate',\n",
    "             'type','duration','m2','m3','d1','d2','d3','y2','y3',]]"
   ]
  },
  {
   "cell_type": "code",
   "execution_count": 488,
   "metadata": {},
   "outputs": [
    {
     "data": {
      "text/html": [
       "<div>\n",
       "<style>\n",
       "    .dataframe thead tr:only-child th {\n",
       "        text-align: right;\n",
       "    }\n",
       "\n",
       "    .dataframe thead th {\n",
       "        text-align: left;\n",
       "    }\n",
       "\n",
       "    .dataframe tbody tr th {\n",
       "        vertical-align: top;\n",
       "    }\n",
       "</style>\n",
       "<table border=\"1\" class=\"dataframe\">\n",
       "  <thead>\n",
       "    <tr style=\"text-align: right;\">\n",
       "      <th></th>\n",
       "      <th>office_id</th>\n",
       "      <th>pf_category</th>\n",
       "      <th>country_code</th>\n",
       "      <th>euribor_rate</th>\n",
       "      <th>libor_rate</th>\n",
       "      <th>type</th>\n",
       "      <th>duration</th>\n",
       "      <th>m2</th>\n",
       "      <th>m3</th>\n",
       "      <th>d1</th>\n",
       "      <th>d2</th>\n",
       "      <th>d3</th>\n",
       "      <th>y2</th>\n",
       "      <th>y3</th>\n",
       "    </tr>\n",
       "  </thead>\n",
       "  <tbody>\n",
       "    <tr>\n",
       "      <th>0</th>\n",
       "      <td>OFF00001002</td>\n",
       "      <td>B</td>\n",
       "      <td>T</td>\n",
       "      <td>0.02074</td>\n",
       "      <td>2.332216</td>\n",
       "      <td>B</td>\n",
       "      <td>23</td>\n",
       "      <td>7</td>\n",
       "      <td>8</td>\n",
       "      <td>20</td>\n",
       "      <td>20</td>\n",
       "      <td>12</td>\n",
       "      <td>2004</td>\n",
       "      <td>2004</td>\n",
       "    </tr>\n",
       "    <tr>\n",
       "      <th>1</th>\n",
       "      <td>OFF00001001</td>\n",
       "      <td>A</td>\n",
       "      <td>N</td>\n",
       "      <td>0.02074</td>\n",
       "      <td>5.269617</td>\n",
       "      <td>C</td>\n",
       "      <td>20</td>\n",
       "      <td>7</td>\n",
       "      <td>8</td>\n",
       "      <td>9</td>\n",
       "      <td>23</td>\n",
       "      <td>12</td>\n",
       "      <td>2004</td>\n",
       "      <td>2004</td>\n",
       "    </tr>\n",
       "    <tr>\n",
       "      <th>2</th>\n",
       "      <td>OFF00001001</td>\n",
       "      <td>A</td>\n",
       "      <td>T</td>\n",
       "      <td>0.02074</td>\n",
       "      <td>2.332216</td>\n",
       "      <td>A</td>\n",
       "      <td>25</td>\n",
       "      <td>7</td>\n",
       "      <td>8</td>\n",
       "      <td>23</td>\n",
       "      <td>23</td>\n",
       "      <td>17</td>\n",
       "      <td>2004</td>\n",
       "      <td>2004</td>\n",
       "    </tr>\n",
       "    <tr>\n",
       "      <th>3</th>\n",
       "      <td>OFF00001001</td>\n",
       "      <td>A</td>\n",
       "      <td>T</td>\n",
       "      <td>0.02074</td>\n",
       "      <td>2.332216</td>\n",
       "      <td>A</td>\n",
       "      <td>-10</td>\n",
       "      <td>7</td>\n",
       "      <td>7</td>\n",
       "      <td>9</td>\n",
       "      <td>23</td>\n",
       "      <td>13</td>\n",
       "      <td>2004</td>\n",
       "      <td>2004</td>\n",
       "    </tr>\n",
       "    <tr>\n",
       "      <th>4</th>\n",
       "      <td>OFF00001002</td>\n",
       "      <td>B</td>\n",
       "      <td>T</td>\n",
       "      <td>0.02074</td>\n",
       "      <td>2.332216</td>\n",
       "      <td>B</td>\n",
       "      <td>-10</td>\n",
       "      <td>7</td>\n",
       "      <td>7</td>\n",
       "      <td>9</td>\n",
       "      <td>23</td>\n",
       "      <td>13</td>\n",
       "      <td>2004</td>\n",
       "      <td>2004</td>\n",
       "    </tr>\n",
       "  </tbody>\n",
       "</table>\n",
       "</div>"
      ],
      "text/plain": [
       "     office_id pf_category country_code  euribor_rate  libor_rate type  \\\n",
       "0  OFF00001002           B            T       0.02074    2.332216    B   \n",
       "1  OFF00001001           A            N       0.02074    5.269617    C   \n",
       "2  OFF00001001           A            T       0.02074    2.332216    A   \n",
       "3  OFF00001001           A            T       0.02074    2.332216    A   \n",
       "4  OFF00001002           B            T       0.02074    2.332216    B   \n",
       "\n",
       "   duration  m2  m3  d1  d2  d3    y2    y3  \n",
       "0        23   7   8  20  20  12  2004  2004  \n",
       "1        20   7   8   9  23  12  2004  2004  \n",
       "2        25   7   8  23  23  17  2004  2004  \n",
       "3       -10   7   7   9  23  13  2004  2004  \n",
       "4       -10   7   7   9  23  13  2004  2004  "
      ]
     },
     "execution_count": 488,
     "metadata": {},
     "output_type": "execute_result"
    }
   ],
   "source": [
    "trainX.head()"
   ]
  },
  {
   "cell_type": "code",
   "execution_count": 301,
   "metadata": {
    "collapsed": true
   },
   "outputs": [],
   "source": [
    "# trainX['ordinal1']=train['start'].apply(lambda x:x.toordinal())\n",
    "# testX['ordinal1']=test['start'].apply(lambda x:x.toordinal())"
   ]
  },
  {
   "cell_type": "code",
   "execution_count": 455,
   "metadata": {
    "collapsed": true
   },
   "outputs": [],
   "source": [
    "# train['return'][1665]=0.78"
   ]
  },
  {
   "cell_type": "code",
   "execution_count": 437,
   "metadata": {
    "collapsed": true
   },
   "outputs": [],
   "source": [
    "# trainX=train[['office_id','pf_category','country_code','euribor_rate','libor_rate',\n",
    "#              'type','status','duration','m1','m2','m3','d2','d3','y1','y2','y3']]\n",
    "# testX=test[['office_id','pf_category','country_code','euribor_rate','libor_rate',\n",
    "#              'type','status','duration','m1','m2','m3','d2','d3','y1','y2','y3']]"
   ]
  },
  {
   "cell_type": "code",
   "execution_count": 490,
   "metadata": {
    "collapsed": true
   },
   "outputs": [],
   "source": [
    "def encoder(df,cols):\n",
    "    le=LabelEncoder()\n",
    "    for i in cols:\n",
    "        le.fit(df[i])\n",
    "        df[i]=le.transform(df[i])"
   ]
  },
  {
   "cell_type": "code",
   "execution_count": 491,
   "metadata": {},
   "outputs": [
    {
     "name": "stderr",
     "output_type": "stream",
     "text": [
      "/anaconda2/lib/python2.7/site-packages/ipykernel_launcher.py:5: SettingWithCopyWarning: \n",
      "A value is trying to be set on a copy of a slice from a DataFrame.\n",
      "Try using .loc[row_indexer,col_indexer] = value instead\n",
      "\n",
      "See the caveats in the documentation: http://pandas.pydata.org/pandas-docs/stable/indexing.html#indexing-view-versus-copy\n",
      "  \"\"\"\n"
     ]
    }
   ],
   "source": [
    "encoder(trainX,['office_id','pf_category','country_code','type',])\n",
    "encoder(testX,['office_id','pf_category','country_code','type',])\n"
   ]
  },
  {
   "cell_type": "code",
   "execution_count": 492,
   "metadata": {
    "collapsed": true
   },
   "outputs": [],
   "source": [
    "# trainX['libor_rate']=np.log(trainX['libor_rate']+1)\n",
    "# testX['libor_rate']=np.log(testX['libor_rate']+1)"
   ]
  },
  {
   "cell_type": "code",
   "execution_count": 493,
   "metadata": {
    "collapsed": true
   },
   "outputs": [],
   "source": [
    "X=trainX.iloc[:,:].values\n",
    "y=Y.values"
   ]
  },
  {
   "cell_type": "code",
   "execution_count": 494,
   "metadata": {
    "collapsed": true
   },
   "outputs": [],
   "source": [
    "X_train,X_test,y_train,y_test=train_test_split(X,y,test_size=0.3)"
   ]
  },
  {
   "cell_type": "code",
   "execution_count": 495,
   "metadata": {
    "collapsed": true
   },
   "outputs": [],
   "source": [
    "def run(X,y,test,params):\n",
    "    dtrain=xgb.DMatrix(X,label=y)\n",
    "    dtest=xgb.DMatrix(test)\n",
    "    bst=xgb.train(params,dtrain,1000)\n",
    "    preds=bst.predict(dtest)\n",
    "    return bst,preds\n",
    "\n",
    "params={\n",
    "    'objective':'reg:linear',\n",
    "    'eta':0.3,\n",
    "    'subsample':1,\n",
    "    'max_depth':7,\n",
    "#     'colsample_bytree':0.9\n",
    "#     'min_child_weight':2\n",
    "    \n",
    "    \n",
    "    \n",
    "}"
   ]
  },
  {
   "cell_type": "code",
   "execution_count": 496,
   "metadata": {
    "collapsed": true
   },
   "outputs": [],
   "source": [
    "# bst,preds=run(X_train,y_train,X_test,params)\n",
    "# r2_score(y_test,preds)"
   ]
  },
  {
   "cell_type": "code",
   "execution_count": 497,
   "metadata": {
    "collapsed": true
   },
   "outputs": [],
   "source": [
    "# rf=RandomForestRegressor()\n",
    "# score=cross_val_score(rf,X,y,cv=KFold(n_splits=10),scoring='r2')\n",
    "# score.mean()"
   ]
  },
  {
   "cell_type": "code",
   "execution_count": 498,
   "metadata": {
    "collapsed": true
   },
   "outputs": [],
   "source": [
    "# rf=RandomForestRegressor()\n",
    "# score=cross_val_score(rf,X,y,cv=KFold(n_splits=10),scoring='r2')\n",
    "# score.mean()"
   ]
  },
  {
   "cell_type": "code",
   "execution_count": 499,
   "metadata": {
    "collapsed": true
   },
   "outputs": [],
   "source": [
    "# rf=RandomForestRegressor(n_estimators=350)\n",
    "# rf.fit(X,y)\n",
    "# preds=rf.predict(testX.values)"
   ]
  },
  {
   "cell_type": "code",
   "execution_count": 500,
   "metadata": {
    "collapsed": true
   },
   "outputs": [],
   "source": [
    "bst,preds=run(X,y,testX.iloc[:,:].values,params)"
   ]
  },
  {
   "cell_type": "code",
   "execution_count": 56,
   "metadata": {
    "collapsed": true
   },
   "outputs": [],
   "source": [
    "subs=pd.DataFrame({\n",
    "    'portfolio_id':ids,\n",
    "    'return':preds\n",
    "},columns=['portfolio_id','return'])"
   ]
  },
  {
   "cell_type": "code",
   "execution_count": 57,
   "metadata": {
    "collapsed": true
   },
   "outputs": [],
   "source": [
    "subs.to_csv('/Users/shashank/Downloads/Societe/last1.csv',index=False)"
   ]
  },
  {
   "cell_type": "code",
   "execution_count": 2360,
   "metadata": {
    "collapsed": true
   },
   "outputs": [],
   "source": [
    "#45---highest\n",
    "#121---highest\n",
    "#122--highest\n",
    "#128--highest\n",
    "#130--highest--0.99347\n",
    "\n",
    "##END NOTES\n",
    "##PLAY WITH PARAMETERS\n",
    "### And please come up with a way please\n",
    "\n",
    "\n",
    "\n",
    "\n"
   ]
  },
  {
   "cell_type": "code",
   "execution_count": 2253,
   "metadata": {},
   "outputs": [
    {
     "data": {
      "image/png": "[encoded data removed]",
      "text/plain": [
       "<matplotlib.figure.Figure at 0x1138f3cd0>"
      ]
     },
     "metadata": {},
     "output_type": "display_data"
    }
   ],
   "source": [
    "fig, ax = plt.subplots(figsize=(12,18))\n",
    "xgb.plot_importance(bst, height=0.8, ax=ax)\n",
    "plt.show()"
   ]
  },
  {
   "cell_type": "code",
   "execution_count": 1928,
   "metadata": {
    "collapsed": true
   },
   "outputs": [],
   "source": [
    "## best is xgb with initial params and months,years,days,without sold and bought and status --56\n",
    "## best is xgb with initial params and months,years,days,without sold and bought and status upper one wiht max depth-7\n",
    "## best is xgb with initial params and months,years,days,without sold and bought and status upper one wiht max depth\n",
    "## without m1-0.99024 --file 83 with only 'm2','m3','d1','d2','d3','y2','y3' --0.991 --highest ## remove hedge for highest\n"
   ]
  },
  {
   "cell_type": "code",
   "execution_count": 227,
   "metadata": {},
   "outputs": [
    {
     "data": {
      "text/plain": [
       "[<matplotlib.lines.Line2D at 0x11b50cbd0>]"
      ]
     },
     "execution_count": 227,
     "metadata": {},
     "output_type": "execute_result"
    },
    {
     "data": {
      "image/png": "[encoded data removed]",
      "text/plain": [
       "<matplotlib.figure.Figure at 0x11b3448d0>"
      ]
     },
     "metadata": {},
     "output_type": "display_data"
    }
   ],
   "source": [
    "plt.plot(train['end'],train['return'])"
   ]
  },
  {
   "cell_type": "code",
   "execution_count": 228,
   "metadata": {},
   "outputs": [
    {
     "data": {
      "text/plain": [
       "[<matplotlib.lines.Line2D at 0x11bba3fd0>]"
      ]
     },
     "execution_count": 228,
     "metadata": {},
     "output_type": "execute_result"
    },
    {
     "data": {
      "image/png": "[encoded data removed]",
      "text/plain": [
       "<matplotlib.figure.Figure at 0x11b68c690>"
      ]
     },
     "metadata": {},
     "output_type": "display_data"
    }
   ],
   "source": [
    "plt.plot(test['end'],preds)"
   ]
  },
  {
   "cell_type": "code",
   "execution_count": null,
   "metadata": {
    "collapsed": true
   },
   "outputs": [],
   "source": [
    "3744     True\n",
    "4043     True\n",
    "4407     True"
   ]
  },
  {
   "cell_type": "code",
   "execution_count": 284,
   "metadata": {
    "collapsed": true
   },
   "outputs": [],
   "source": [
    "preds[3744]=0.05"
   ]
  },
  {
   "cell_type": "code",
   "execution_count": 274,
   "metadata": {},
   "outputs": [
    {
     "data": {
      "text/plain": [
       "0.027168691"
      ]
     },
     "execution_count": 274,
     "metadata": {},
     "output_type": "execute_result"
    }
   ],
   "source": [
    "preds[3744]"
   ]
  },
  {
   "cell_type": "code",
   "execution_count": 2388,
   "metadata": {},
   "outputs": [
    {
     "data": {
      "text/html": [
       "<div>\n",
       "<style>\n",
       "    .dataframe thead tr:only-child th {\n",
       "        text-align: right;\n",
       "    }\n",
       "\n",
       "    .dataframe thead th {\n",
       "        text-align: left;\n",
       "    }\n",
       "\n",
       "    .dataframe tbody tr th {\n",
       "        vertical-align: top;\n",
       "    }\n",
       "</style>\n",
       "<table border=\"1\" class=\"dataframe\">\n",
       "  <thead>\n",
       "    <tr style=\"text-align: right;\">\n",
       "      <th></th>\n",
       "      <th>portfolio_id</th>\n",
       "      <th>desk_id</th>\n",
       "      <th>office_id</th>\n",
       "      <th>pf_category</th>\n",
       "      <th>start_date</th>\n",
       "      <th>sold</th>\n",
       "      <th>country_code</th>\n",
       "      <th>euribor_rate</th>\n",
       "      <th>currency</th>\n",
       "      <th>libor_rate</th>\n",
       "      <th>bought</th>\n",
       "      <th>creation_date</th>\n",
       "      <th>indicator_code</th>\n",
       "      <th>sell_date</th>\n",
       "      <th>type</th>\n",
       "      <th>hedge_value</th>\n",
       "      <th>status</th>\n",
       "      <th>start</th>\n",
       "      <th>create</th>\n",
       "      <th>end</th>\n",
       "      <th>duration</th>\n",
       "      <th>duration2</th>\n",
       "      <th>m1</th>\n",
       "      <th>m2</th>\n",
       "      <th>m3</th>\n",
       "      <th>d1</th>\n",
       "      <th>d2</th>\n",
       "      <th>d3</th>\n",
       "      <th>y1</th>\n",
       "      <th>y2</th>\n",
       "      <th>y3</th>\n",
       "      <th>w1</th>\n",
       "      <th>w2</th>\n",
       "      <th>w3</th>\n",
       "    </tr>\n",
       "  </thead>\n",
       "  <tbody>\n",
       "  </tbody>\n",
       "</table>\n",
       "</div>"
      ],
      "text/plain": [
       "Empty DataFrame\n",
       "Columns: [portfolio_id, desk_id, office_id, pf_category, start_date, sold, country_code, euribor_rate, currency, libor_rate, bought, creation_date, indicator_code, sell_date, type, hedge_value, status, start, create, end, duration, duration2, m1, m2, m3, d1, d2, d3, y1, y2, y3, w1, w2, w3]\n",
       "Index: []"
      ]
     },
     "execution_count": 2388,
     "metadata": {},
     "output_type": "execute_result"
    }
   ],
   "source": [
    "test[test['end']==2012-04-27]"
   ]
  },
  {
   "cell_type": "code",
   "execution_count": 2400,
   "metadata": {},
   "outputs": [
    {
     "data": {
      "text/plain": [
       "array([4141, 4652, 4275, ...,  303,  428,  767])"
      ]
     },
     "execution_count": 2400,
     "metadata": {},
     "output_type": "execute_result"
    }
   ],
   "source": [
    "np.argsort(preds)"
   ]
  },
  {
   "cell_type": "code",
   "execution_count": 2406,
   "metadata": {},
   "outputs": [
    {
     "data": {
      "text/plain": [
       "array([ 0.19      ,  0.08149463,  0.07664755, ..., -0.00899094,\n",
       "       -0.00904292, -0.00927413], dtype=float32)"
      ]
     },
     "execution_count": 2406,
     "metadata": {},
     "output_type": "execute_result"
    }
   ],
   "source": [
    "np.sort(preds)[::-1]"
   ]
  },
  {
   "cell_type": "code",
   "execution_count": 2413,
   "metadata": {},
   "outputs": [
    {
     "data": {
      "text/plain": [
       "(array([428]),)"
      ]
     },
     "execution_count": 2413,
     "metadata": {},
     "output_type": "execute_result"
    }
   ],
   "source": [
    "np.where(preds==0.08149463)"
   ]
  },
  {
   "cell_type": "code",
   "execution_count": 192,
   "metadata": {},
   "outputs": [
    {
     "data": {
      "text/plain": [
       "[<matplotlib.lines.Line2D at 0x117f38510>]"
      ]
     },
     "execution_count": 192,
     "metadata": {},
     "output_type": "execute_result"
    },
    {
     "data": {
      "image/png": "[encoded data removed]",
      "text/plain": [
       "<matplotlib.figure.Figure at 0x117ec3190>"
      ]
     },
     "metadata": {},
     "output_type": "display_data"
    }
   ],
   "source": [
    "plt.plot(train['end'],train['return'])\n"
   ]
  },
  {
   "cell_type": "code",
   "execution_count": 193,
   "metadata": {},
   "outputs": [
    {
     "data": {
      "text/plain": [
       "[<matplotlib.lines.Line2D at 0x11ad5bfd0>]"
      ]
     },
     "execution_count": 193,
     "metadata": {},
     "output_type": "execute_result"
    },
    {
     "data": {
      "image/png": "[encoded data removed]",
      "text/plain": [
       "<matplotlib.figure.Figure at 0x117368a50>"
      ]
     },
     "metadata": {},
     "output_type": "display_data"
    }
   ],
   "source": [
    "plt.plot(test['end'],preds)\n"
   ]
  },
  {
   "cell_type": "code",
   "execution_count": 2374,
   "metadata": {
    "collapsed": true
   },
   "outputs": [],
   "source": []
  },
  {
   "cell_type": "code",
   "execution_count": 2375,
   "metadata": {},
   "outputs": [
    {
     "data": {
      "text/plain": [
       "767"
      ]
     },
     "execution_count": 2375,
     "metadata": {},
     "output_type": "execute_result"
    }
   ],
   "source": [
    "preds.argmax()"
   ]
  },
  {
   "cell_type": "code",
   "execution_count": 2376,
   "metadata": {},
   "outputs": [
    {
     "data": {
      "text/plain": [
       "0.18000001"
      ]
     },
     "execution_count": 2376,
     "metadata": {},
     "output_type": "execute_result"
    }
   ],
   "source": [
    "preds[767]"
   ]
  },
  {
   "cell_type": "code",
   "execution_count": 225,
   "metadata": {
    "collapsed": true
   },
   "outputs": [],
   "source": [
    "sub=pd.read_csv('/Users/shashank/Downloads/Societe/subs130fresh.csv')"
   ]
  },
  {
   "cell_type": "code",
   "execution_count": 227,
   "metadata": {
    "collapsed": true
   },
   "outputs": [],
   "source": [
    "f=0.5*sub['return']+0.5*preds"
   ]
  },
  {
   "cell_type": "code",
   "execution_count": 228,
   "metadata": {},
   "outputs": [
    {
     "data": {
      "text/plain": [
       "0       0.024983\n",
       "1       0.020102\n",
       "2       0.025580\n",
       "3       0.024770\n",
       "4       0.024044\n",
       "5       0.024844\n",
       "6       0.025050\n",
       "7       0.024530\n",
       "8       0.025778\n",
       "9       0.057390\n",
       "10      0.025367\n",
       "11      0.025353\n",
       "12      0.024878\n",
       "13      0.025092\n",
       "14      0.025079\n",
       "15      0.025038\n",
       "16      0.024825\n",
       "17      0.056893\n",
       "18      0.025150\n",
       "19      0.025221\n",
       "20      0.025214\n",
       "21      0.024658\n",
       "22      0.027958\n",
       "23      0.025933\n",
       "24      0.025991\n",
       "25      0.057026\n",
       "26      0.025991\n",
       "27      0.026017\n",
       "28      0.024843\n",
       "29      0.025960\n",
       "          ...   \n",
       "4771   -0.002681\n",
       "4772    0.006201\n",
       "4773    0.013128\n",
       "4774    0.005000\n",
       "4775   -0.002476\n",
       "4776   -0.003253\n",
       "4777   -0.002713\n",
       "4778    0.007969\n",
       "4779    0.007969\n",
       "4780    0.007969\n",
       "4781    0.007969\n",
       "4782   -0.002521\n",
       "4783    0.008311\n",
       "4784    0.008530\n",
       "4785   -0.002063\n",
       "4786   -0.002825\n",
       "4787   -0.003881\n",
       "4788    0.011517\n",
       "4789    0.005903\n",
       "4790    0.000628\n",
       "4791    0.006892\n",
       "4792    0.003110\n",
       "4793   -0.000296\n",
       "4794    0.005471\n",
       "4795   -0.001678\n",
       "4796    0.005482\n",
       "4797    0.005482\n",
       "4798    0.006508\n",
       "4799    0.005482\n",
       "4800    0.005648\n",
       "Name: return, Length: 4801, dtype: float64"
      ]
     },
     "execution_count": 228,
     "metadata": {},
     "output_type": "execute_result"
    }
   ],
   "source": [
    "f"
   ]
  },
  {
   "cell_type": "code",
   "execution_count": null,
   "metadata": {
    "collapsed": true
   },
   "outputs": [],
   "source": []
  }
 ],
 "metadata": {
  "kernelspec": {
   "display_name": "Python 2",
   "language": "python",
   "name": "python2"
  },
  "language_info": {
   "codemirror_mode": {
    "name": "ipython",
    "version": 2
   },
   "file_extension": ".py",
   "mimetype": "text/x-python",
   "name": "python",
   "nbconvert_exporter": "python",
   "pygments_lexer": "ipython2",
   "version": "2.7.14"
  }
 },
 "nbformat": 4,
 "nbformat_minor": 2
}
