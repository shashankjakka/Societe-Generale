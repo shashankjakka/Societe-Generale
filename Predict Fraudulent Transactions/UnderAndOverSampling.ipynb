{
 "cells": [
  {
   "cell_type": "code",
   "execution_count": 166,
   "metadata": {
    "collapsed": true
   },
   "outputs": [],
   "source": [
    "import numpy as np\n",
    "import pandas as pd\n",
    "from sklearn.preprocessing import LabelEncoder,StandardScaler\n",
    "from sklearn.calibration import CalibratedClassifierCV\n",
    "from sklearn.neighbors import KNeighborsClassifier\n",
    "from sklearn.linear_model import LogisticRegression\n",
    "from sklearn.model_selection import train_test_split,cross_val_score,KFold,ShuffleSplit\n",
    "from sklearn.ensemble import RandomForestRegressor,RandomForestClassifier,BaggingClassifier,ExtraTreesClassifier\n",
    "from sklearn.metrics import r2_score,roc_auc_score,accuracy_score,confusion_matrix\n",
    "import matplotlib.pyplot as plt\n",
    "%matplotlib inline\n",
    "import seaborn as sns\n",
    "import xgboost as xgb\n",
    "from xgboost.sklearn import XGBClassifier\n",
    "from imblearn.ensemble import BalancedBaggingClassifier\n",
    "from imblearn.over_sampling import SMOTE,ADASYN\n",
    "from mlxtend.classifier import StackingClassifier\n",
    "from mlxtend.classifier import EnsembleVoteClassifier\n",
    "from sklearn.neighbors import LocalOutlierFactor\n",
    "from vecstack import stacking\n",
    "from mlxtend.classifier import StackingClassifier\n",
    "from sklearn import cross_validation, metrics   #Additional scklearn functions\n",
    "from sklearn.grid_search import GridSearchCV   #Perforing grid search\n",
    "from imblearn.combine import SMOTEENN\n"
   ]
  },
  {
   "cell_type": "code",
   "execution_count": 104,
   "metadata": {
    "collapsed": true
   },
   "outputs": [],
   "source": [
    "class XGBoostClassifier():\n",
    "    def __init__(self,num_boost_round=10,**params):\n",
    "        self.clf=None\n",
    "        self.num_boost_round=num_boost_round\n",
    "        self.classes_=[0,1]\n",
    "        self.params=params\n",
    "        self.params.update({'objective':\"multi:softprob\"}) \n",
    "    def classes_(self):\n",
    "        l=[0,1]\n",
    "        return l\n",
    "    def fit(self,X,y,num_boost_round=None):\n",
    "        num_boost_round=num_boost_round or self.num_boost_round\n",
    "        self.label2num=dict((label,i) for i,label in enumerate(sorted(set(y))))\n",
    "        dtrain=xgb.DMatrix(X,label=[self.label2num[label] for label in y])\n",
    "        self.clf=xgb.train(params=self.params,dtrain=dtrain,num_boost_round=num_boost_round)\n",
    "    def predict(self,X):\n",
    "        num2label=dict((i,label)for label,i in self.label2num.items())\n",
    "        Y=self.predict_proba(X)\n",
    "        y=np.argmax(Y,axis=1)\n",
    "        return np.array([num2label[i] for i in y])\n",
    "    def predict_proba(self,X):\n",
    "        dtest=xgb.DMatrix(X)\n",
    "        return self.clf.predict(dtest)\n",
    "    def score(self,X,y):\n",
    "        Y=self.predict_proba(X)\n",
    "        return 1/logless(y,Y)\n",
    "    def get_params(self,deep=True):\n",
    "        return self.params\n",
    "    def set_params(self,**params):\n",
    "        if 'num_boost_round' in params:\n",
    "            self.num_boost_round=params.pop('num_boost_round')\n",
    "        if 'objective' in params:\n",
    "            del params['objective']\n",
    "        self.params.update(params)\n",
    "        return self\n",
    "                                            "
   ]
  },
  {
   "cell_type": "code",
   "execution_count": 4,
   "metadata": {
    "collapsed": true
   },
   "outputs": [],
   "source": [
    "pd.set_option('max_columns',260)"
   ]
  },
  {
   "cell_type": "code",
   "execution_count": 2,
   "metadata": {
    "collapsed": true
   },
   "outputs": [],
   "source": [
    "class XGBoostClassifier():\n",
    "    def __init__(self,num_boost_round=10,**params):\n",
    "        self.clf=None\n",
    "        self.num_boost_round=num_boost_round\n",
    "        self.classes_=[0,1]\n",
    "        self.params=params\n",
    "        self.params.update({'objective':\"multi:softprob\"}) \n",
    "    def classes_(self):\n",
    "        l=[0,1]\n",
    "        return l\n",
    "    def fit(self,X,y,num_boost_round=None):\n",
    "        num_boost_round=num_boost_round or self.num_boost_round\n",
    "        self.label2num=dict((label,i) for i,label in enumerate(sorted(set(y))))\n",
    "        dtrain=xgb.DMatrix(X,label=[self.label2num[label] for label in y])\n",
    "        self.clf=xgb.train(params=self.params,dtrain=dtrain,num_boost_round=num_boost_round)\n",
    "    def predict(self,X):\n",
    "        num2label=dict((i,label)for label,i in self.label2num.items())\n",
    "        Y=self.predict_proba(X)\n",
    "        y=np.argmax(Y,axis=1)\n",
    "        return np.array([num2label[i] for i in y])\n",
    "    def predict_proba(self,X):\n",
    "        dtest=xgb.DMatrix(X)\n",
    "        return self.clf.predict(dtest)\n",
    "    def score(self,X,y):\n",
    "        Y=self.predict_proba(X)\n",
    "        return 1/logless(y,Y)\n",
    "    def get_params(self,deep=True):\n",
    "        return self.params\n",
    "    def set_params(self,**params):\n",
    "        if 'num_boost_round' in params:\n",
    "            self.num_boost_round=params.pop('num_boost_round')\n",
    "        if 'objective' in params:\n",
    "            del params['objective']\n",
    "        self.params.update(params)\n",
    "        return self\n",
    "                                            "
   ]
  },
  {
   "cell_type": "code",
   "execution_count": 150,
   "metadata": {
    "collapsed": true
   },
   "outputs": [],
   "source": [
    "train=pd.read_csv('/Users/shashank/Downloads/Societe2/train.csv')\n",
    "test=pd.read_csv('/Users/shashank/Downloads/Societe2/test.csv')\n",
    "sample=pd.read_csv('/Users/shashank/Downloads/Societe2/sample_submissions.csv')"
   ]
  },
  {
   "cell_type": "code",
   "execution_count": 151,
   "metadata": {
    "collapsed": true
   },
   "outputs": [],
   "source": [
    "target='target'\n",
    "IDcol = 'transaction_id'\n"
   ]
  },
  {
   "cell_type": "code",
   "execution_count": 152,
   "metadata": {
    "collapsed": true
   },
   "outputs": [],
   "source": [
    "# ids=test['transaction_id']\n",
    "# train.drop(['transaction_id'],axis=1,inplace=True)\n",
    "# test.drop(['transaction_id'],axis=1,inplace=True)"
   ]
  },
  {
   "cell_type": "code",
   "execution_count": 153,
   "metadata": {
    "collapsed": true
   },
   "outputs": [],
   "source": [
    "# Y=train['target']\n",
    "# train.drop(['target'],axis=1,inplace=True)"
   ]
  },
  {
   "cell_type": "code",
   "execution_count": 154,
   "metadata": {
    "collapsed": true
   },
   "outputs": [],
   "source": [
    "# train.drop(['cat_var_1','cat_var_3','cat_var_6','cat_var_8'],axis=1,inplace=True)\n",
    "# test.drop(['cat_var_1','cat_var_3','cat_var_6','cat_var_8'],axis=1,inplace=True)"
   ]
  },
  {
   "cell_type": "code",
   "execution_count": 155,
   "metadata": {
    "collapsed": true
   },
   "outputs": [],
   "source": [
    "train.fillna('NO',inplace=True)\n",
    "test.fillna('NO',inplace=True)"
   ]
  },
  {
   "cell_type": "code",
   "execution_count": 156,
   "metadata": {
    "collapsed": true
   },
   "outputs": [],
   "source": [
    "def encoder(df,cols):\n",
    "    le=LabelEncoder()\n",
    "    for i in cols:\n",
    "        le.fit(df[i])\n",
    "        df.loc[:,i]=le.transform(df[i])"
   ]
  },
  {
   "cell_type": "code",
   "execution_count": 157,
   "metadata": {
    "collapsed": true
   },
   "outputs": [],
   "source": [
    "encoder(train,train.columns[8:26])\n",
    "encoder(test,train.columns[8:26])"
   ]
  },
  {
   "cell_type": "code",
   "execution_count": 79,
   "metadata": {
    "collapsed": true
   },
   "outputs": [],
   "source": [
    "X=train.values\n",
    "y=Y.values "
   ]
  },
  {
   "cell_type": "code",
   "execution_count": 81,
   "metadata": {
    "collapsed": true
   },
   "outputs": [],
   "source": [
    "X_train,X_test,y_train,y_test=train_test_split(X,y,test_size=0.3)"
   ]
  },
  {
   "cell_type": "code",
   "execution_count": 86,
   "metadata": {
    "collapsed": true
   },
   "outputs": [],
   "source": [
    "predictors = [x for x in train.columns if x not in [target, IDcol]]\n"
   ]
  },
  {
   "cell_type": "code",
   "execution_count": 164,
   "metadata": {
    "collapsed": true
   },
   "outputs": [],
   "source": [
    "def run(X,y,test,params):\n",
    "    dtrain=xgb.DMatrix(X,label=y)\n",
    "    dtest=xgb.DMatrix(test)\n",
    "    bst=xgb.train(params,dtrain,89)\n",
    "    preds=bst.predict(dtest)\n",
    "    return bst,preds\n",
    "\n",
    "params={\n",
    "    'objective':'binary:logistic',\n",
    "    'eta':0.1,\n",
    "    'max_depth':9,\n",
    "    'min_child_weight':7,\n",
    "    'gamma':0.1,\n",
    "    'subsample':0.9,\n",
    "    'colsample_bytree':0.7,\n",
    "    'scale_pos_weight':1\n",
    "    \n",
    "}"
   ]
  },
  {
   "cell_type": "code",
   "execution_count": 196,
   "metadata": {
    "collapsed": true
   },
   "outputs": [],
   "source": [
    "params2={\n",
    "    'objective':'binary:logistic',\n",
    "    'eta':0.4,\n",
    "}"
   ]
  },
  {
   "cell_type": "code",
   "execution_count": 168,
   "metadata": {
    "collapsed": true
   },
   "outputs": [],
   "source": [
    "\n",
    "# smote_enn = SMOTEENN(random_state=0)\n",
    "# X_resampled, y_resampled = smote_enn.fit_sample(train[predictors].values,train[target].values)"
   ]
  },
  {
   "cell_type": "code",
   "execution_count": 197,
   "metadata": {
    "collapsed": true
   },
   "outputs": [],
   "source": [
    "bst,p1=run(X_res1,y_res1,test[predictors].values,params2)"
   ]
  },
  {
   "cell_type": "code",
   "execution_count": 165,
   "metadata": {},
   "outputs": [],
   "source": [
    "bst,p1=run(train[predictors].values,train[target].values,test[predictors].values,params)"
   ]
  },
  {
   "cell_type": "code",
   "execution_count": 61,
   "metadata": {},
   "outputs": [
    {
     "data": {
      "text/plain": [
       "XGBClassifier(base_score=0.5, colsample_bylevel=1, colsample_bytree=0.7,\n",
       "       gamma=0.1, learning_rate=0.3, max_delta_step=0, max_depth=9,\n",
       "       min_child_weight=7, missing=None, n_estimators=89, nthread=4,\n",
       "       objective='binary:logistic', reg_alpha=0, reg_lambda=1,\n",
       "       scale_pos_weight=1, seed=27, silent=True, subsample=0.9)"
      ]
     },
     "execution_count": 61,
     "metadata": {},
     "output_type": "execute_result"
    }
   ],
   "source": [
    "clf.fit(train[predictors].values,train[target].values)"
   ]
  },
  {
   "cell_type": "code",
   "execution_count": 177,
   "metadata": {
    "collapsed": true
   },
   "outputs": [],
   "source": [
    "from imblearn.under_sampling import NeighbourhoodCleaningRule\n",
    "ncr = NeighbourhoodCleaningRule(random_state=0)\n",
    "X_res, y_res = ncr.fit_sample(train[predictors].values,train[target].values)"
   ]
  },
  {
   "cell_type": "code",
   "execution_count": 184,
   "metadata": {
    "collapsed": true
   },
   "outputs": [],
   "source": [
    "from imblearn.under_sampling import EditedNearestNeighbours\n",
    "enn = EditedNearestNeighbours(random_state=0)\n",
    "X_res1, y_res1 = enn.fit_sample(train[predictors].values,train[target].values)\n"
   ]
  },
  {
   "cell_type": "code",
   "execution_count": null,
   "metadata": {
    "collapsed": true
   },
   "outputs": [],
   "source": []
  },
  {
   "cell_type": "code",
   "execution_count": 198,
   "metadata": {
    "collapsed": true
   },
   "outputs": [],
   "source": [
    "subs=pd.DataFrame({\n",
    "    'transaction_id':test['transaction_id'],\n",
    "    'target':p1\n",
    "},columns=['transaction_id','target'])"
   ]
  },
  {
   "cell_type": "code",
   "execution_count": 199,
   "metadata": {
    "collapsed": true
   },
   "outputs": [],
   "source": [
    "subs.to_csv('/Users/shashank/Downloads/Societe2/subs28fresh.csv',index=False)"
   ]
  },
  {
   "cell_type": "code",
   "execution_count": 127,
   "metadata": {
    "collapsed": true
   },
   "outputs": [],
   "source": [
    "# one=pd.read_csv('/Users/shashank/Downloads/Societe2/subs8.csv')\n",
    "second=pd.read_csv('/Users/shashank/Downloads/Societe2/subs10fresh.csv')"
   ]
  },
  {
   "cell_type": "code",
   "execution_count": null,
   "metadata": {
    "collapsed": true
   },
   "outputs": [],
   "source": [
    "##All fresh as suffix\n",
    "###5--0.73098\n",
    "###6--0.72065\n",
    "###7--0.71739\n",
    "###8--0.73141\n",
    "###9 avg of subs8.csv and prev 8---0.73213\n",
    "##10 with all features ---0.73218 you dumbass everyone were doing this and you fucking complicated the whole thing!!!\n",
    "##11 avg of 9 and 10 ---0.73265\n",
    "###12 avg of 11 subs8.csv and subs10fresh.csv--0.73254 ofc they are avg's of avg's what did you expect?\n",
    "###13 same as 10fresh but with 150 trees(why not!!)---0.73079 hahaha!!\n",
    "###14 bag of xgbs with same params and all features --0.72930 rock bottom? NO!!!\n",
    "###15 basic xgb with all features and 0.3 eta ---0.72930?\n",
    "## 16 all the time reg alpha was missing (how pathetic!)---0.72743\n",
    "## 17 all the time max_scale_pos was missing too(can it be more pathetic?)--0.73218 literally made no diff -_-\n",
    "## 18 subsample 1 (just to check if the hypertuning worked)--0.73102 it worked omg!!!\n",
    "## but how can I reach 0.738?? sob sob, go sleep now"
   ]
  }
 ],
 "metadata": {
  "kernelspec": {
   "display_name": "Python 2",
   "language": "python",
   "name": "python2"
  },
  "language_info": {
   "codemirror_mode": {
    "name": "ipython",
    "version": 2
   },
   "file_extension": ".py",
   "mimetype": "text/x-python",
   "name": "python",
   "nbconvert_exporter": "python",
   "pygments_lexer": "ipython2",
   "version": "2.7.14"
  }
 },
 "nbformat": 4,
 "nbformat_minor": 2
}
